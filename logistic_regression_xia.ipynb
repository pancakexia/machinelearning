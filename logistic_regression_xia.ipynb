{
  "cells": [
    {
      "cell_type": "code",
      "execution_count": 33,
      "metadata": {
        "id": "dhDNAyF_BV_A",
        "outputId": "f45ef630-9de1-47e1-a721-676ddcb65a63",
        "colab": {
          "base_uri": "https://localhost:8080/",
          "height": 487
        }
      },
      "outputs": [
        {
          "output_type": "stream",
          "name": "stdout",
          "text": [
            "Number of training examples:  455\n",
            "Number of testing examples:  114\n"
          ]
        },
        {
          "output_type": "display_data",
          "data": {
            "text/plain": [
              "<Figure size 640x480 with 1 Axes>"
            ],
            "image/png": "[encoded data removed]"
          },
          "metadata": {}
        }
      ],
      "source": [
        "# In this exercise, we are going to classify the breast cancer wisconsin dataset.\n",
        "# This dataset contains in total 569 examples, among them 212 examples are labelled as malignant (M or 0) and 357\n",
        "# examples are marked as benign (B or 1). .Each example is a vector of 30 dimensions.\n",
        "# We will train a binary logistic regression model using this dataset.\n",
        "\n",
        "# Load, normalize, split and visualize your dataset. This step has been done for you.\n",
        "import numpy as np\n",
        "from sklearn.datasets import load_breast_cancer\n",
        "import matplotlib.pyplot as plt\n",
        "\n",
        "# load the dataset\n",
        "data = load_breast_cancer()\n",
        "x = data.data\n",
        "y = data.target\n",
        "\n",
        "# split into training and test sets, namely 80 percent of examples goes for the training,\n",
        "# 20 percent goes for the test set\n",
        "N_train = int(0.8 * x.shape[0])\n",
        "x_train = x[:N_train,:]\n",
        "y_train = y[:N_train]\n",
        "x_test = x[N_train:,:]\n",
        "y_test = y[N_train:]\n",
        "#add one column in y_train and\n",
        "#y_train = y_train.reshape(-1,1)\n",
        "#y_test = y_test.reshape(-1,1)\n",
        "\n",
        "# scale features by removing mean and dividing by the standard deviation\n",
        "# use only the statistics from the training set\n",
        "x_train_mean = np.mean(x_train, axis=0)\n",
        "x_train_std = np.std(x_train, axis=0)\n",
        "x_test_mean = np.mean(x_test, axis=0)\n",
        "x_test_std = np.std(x_test, axis=0)\n",
        "# scale features by removing mean and dividing by the standard deviation\n",
        "x_train_scaled = (x_train-x_train_mean)/x_train_std# YOUR CODE GOES HERE\n",
        "x_test_scaled = (x_test-x_test_mean)/x_test_std# YOUR CODE GOES HERE\n",
        "\n",
        "print(\"Number of training examples: \",x_train_scaled.shape[0])\n",
        "print(\"Number of testing examples: \",x_test_scaled.shape[0])\n",
        "\n",
        "# visualize the dataset using histogram\n",
        "labels = ['Benign','Malignant']\n",
        "population = [np.sum(y),np.sum(y==0)]\n",
        "y_pos = np.arange(len(labels))\n",
        "barlist = plt.bar(y_pos, population, align='center',width=0.3)\n",
        "plt.xticks(y_pos, labels)\n",
        "plt.ylabel('Number of examples')\n",
        "plt.title('Breast wisconsin dataset.')\n",
        "barlist[1].set_color('r')\n",
        "plt.show()"
      ]
    },
    {
      "cell_type": "code",
      "execution_count": 34,
      "metadata": {
        "collapsed": true,
        "id": "7JaBmz6ZBV_C",
        "outputId": "dd4bc922-7036-4f76-dfcb-d365063ccaff",
        "colab": {
          "base_uri": "https://localhost:8080/"
        }
      },
      "outputs": [
        {
          "output_type": "stream",
          "name": "stdout",
          "text": [
            "(455, 31)\n",
            "(114, 31)\n",
            "(455,)\n",
            "(114,)\n"
          ]
        }
      ],
      "source": [
        "# Add intercept terms and initialize parameters\n",
        "x_train_scaled = np.concatenate((np.ones((x_train_scaled.shape[0], 1)), x_train_scaled), axis=1)\n",
        "x_test_scaled = np.concatenate((np.ones((x_test_scaled.shape[0], 1)), x_test_scaled), axis=1)\n",
        "\n",
        "print(x_train_scaled.shape)\n",
        "print(x_test_scaled.shape)\n",
        "print(y_train.shape)\n",
        "print(y_test.shape)"
      ]
    },
    {
      "cell_type": "code",
      "execution_count": 35,
      "metadata": {
        "collapsed": true,
        "id": "ZFmkJqyPBV_D",
        "outputId": "b60fa29b-8742-444a-d904-85291417219d",
        "colab": {
          "base_uri": "https://localhost:8080/"
        }
      },
      "outputs": [
        {
          "output_type": "stream",
          "name": "stdout",
          "text": [
            "Sum of gradient squared error:  5.27084058479608e-19\n",
            "[-0.07074985  0.11414839  0.09335814  0.11818055  0.11747809  0.0735\n",
            "  0.11438059  0.13735247  0.14463116  0.09647365  0.04776     0.16978939\n",
            "  0.08344101  0.16874639  0.14790131  0.08178194  0.10506546  0.09034627\n",
            "  0.14893134  0.05218214  0.09031785  0.1236041   0.08402416  0.12627138\n",
            "  0.1201853   0.07194291  0.0955082   0.11264371  0.13461831  0.05641053\n",
            "  0.08491307]\n",
            "[-0.07074985  0.11414839  0.09335814  0.11818055  0.11747809  0.0735\n",
            "  0.11438059  0.13735247  0.14463116  0.09647365  0.04776     0.16978939\n",
            "  0.08344101  0.16874639  0.14790131  0.08178194  0.10506546  0.09034627\n",
            "  0.14893134  0.05218214  0.09031785  0.1236041   0.08402416  0.12627138\n",
            "  0.1201853   0.07194291  0.0955082   0.11264371  0.13461831  0.05641053\n",
            "  0.08491307]\n"
          ]
        }
      ],
      "source": [
        "# Step 1: Implement the sigmoid, gradient and cost functions\n",
        "\n",
        "# this function returns the probability of y=1\n",
        "# x: data matrix\n",
        "# theta: model's parameters\\\n",
        "\n",
        "def sigmoid(x,theta):\n",
        "    u=np.dot(x,theta)\n",
        "    return 1/(1+np.exp(-u))\n",
        "    ### YOUR CODE GOES HERE ###\n",
        "\n",
        "# logarithmic loss\n",
        "# x: data matrix (2D)\n",
        "# y: label (1D)\n",
        "# theta: model's parameters (1D)\n",
        "def compute_cost(x,y,theta):\n",
        "    return -(1/len(x)) * np.sum(np.multiply(y,np.log(sigmoid(x,theta)))+np.multiply((1-y),np.log(1-sigmoid(x,theta))))\n",
        "    ### YOUR CODE GOES HERE ###\n",
        "\n",
        "def compute_gradient(x,y,theta):\n",
        "    return (1/(len(x)))*np.dot((sigmoid(x,theta)-y),x) #dot is same as square sum, if it was same value\n",
        "    ### YOUR CODE GOES HERE ###\n",
        "\n",
        "def approximate_gradient(x,y,theta,epsilon):\n",
        "    n_features = x.shape[1]\n",
        "    app_grad = np.zeros(n_features)\n",
        "    for i in range(n_features):\n",
        "        epsilon_one_hot = np.zeros(n_features)\n",
        "        epsilon_one_hot[i] = epsilon\n",
        "        theta_before = theta - epsilon_one_hot\n",
        "        theta_after = theta + epsilon_one_hot\n",
        "        app_grad[i] = (compute_cost(x,y,theta_after) - compute_cost(x,y,theta_before))/(2*epsilon)\n",
        "    return app_grad\n",
        "\n",
        "theta = 0.5 * np.random.randn(x_train_scaled.shape[1])\n",
        "grad = compute_gradient(x_train_scaled,y_train,theta)\n",
        "epsilon = 1e-4\n",
        "app_grad = approximate_gradient(x_train_scaled,y_train,theta,epsilon)\n",
        "print('Sum of gradient squared error: ',np.sum((grad - app_grad)**2))\n",
        "print(grad)\n",
        "print(app_grad)"
      ]
    },
    {
      "cell_type": "code",
      "execution_count": 31,
      "metadata": {
        "collapsed": true,
        "id": "jJsHW1xjBV_D",
        "outputId": "66c06a06-ee36-4617-9274-1bcd3ad86cb2",
        "colab": {
          "base_uri": "https://localhost:8080/",
          "height": 106
        }
      },
      "outputs": [
        {
          "output_type": "error",
          "ename": "SyntaxError",
          "evalue": "invalid syntax (<ipython-input-31-e0baee9b4c78>, line 18)",
          "traceback": [
            "\u001b[0;36m  File \u001b[0;32m\"<ipython-input-31-e0baee9b4c78>\"\u001b[0;36m, line \u001b[0;32m18\u001b[0m\n\u001b[0;31m    theta_msgd = ### YOUR CODE GOES HERE ###\u001b[0m\n\u001b[0m                 ^\u001b[0m\n\u001b[0;31mSyntaxError\u001b[0m\u001b[0;31m:\u001b[0m invalid syntax\n"
          ]
        }
      ],
      "source": [
        "# Step 2: Update model parameters using mini-batch gradient descent algorithm\n",
        "\n",
        "# try different values for the learning rate\n",
        "learning_rate = 0.01\n",
        "\n",
        "# number of training iterations\n",
        "num_samples = x_train_scaled.shape[0]\n",
        "batch_size = int(num_samples/10)\n",
        "N_iterations = int(num_samples / batch_size) * 50  # 50 epochs\n",
        "\n",
        "# prepare to plot\n",
        "plt.subplot(111)\n",
        "\n",
        "# keep the cost value for each training step\n",
        "J = np.zeros(N_iterations)\n",
        "\n",
        "# initialize new parameters using random distribution\n",
        "theta_msgd = ### YOUR CODE GOES HERE ###\n",
        "\n",
        "start = 0\n",
        "end = 0\n",
        "for step in range(N_iterations):\n",
        "    if step % (num_samples / batch_size) == 0:\n",
        "        # shuffle the training data\n",
        "        ### YOUR CODE GOES HERE ###\n",
        "\n",
        "        # indices = np.random.permutation(num_samples)\n",
        "        # x_train_scaled = x_train_scaled[indices,:]\n",
        "        # y_train = y_train[indices]\n",
        "\n",
        "    # create a mini-batch of data to train on\n",
        "    x_batch = ### YOUR CODE GOES HERE ###\n",
        "    y_batch = ### YOUR CODE GOES HERE ###\n",
        "\n",
        "    # calculate the cost on x_step and y_step\n",
        "    J[step] = ### YOUR CODE GOES HERE ###\n",
        "\n",
        "    # update theta_msgd using a x_step and y_step\n",
        "    theta_msgd = ### YOUR CODE GOES HERE ###\n",
        "\n",
        "# calculate the loss on the whole training set\n",
        "J_train = compute_cost(x_train_scaled, y_train, theta_msgd)\n",
        "print('training cost: %f' %J_train)\n",
        "# plot cost function\n",
        "plt.plot(J)\n",
        "plt.xlabel('Training step')\n",
        "plt.ylabel('Cost')\n",
        "plt.show()"
      ]
    },
    {
      "cell_type": "code",
      "execution_count": null,
      "metadata": {
        "collapsed": true,
        "id": "5SfRmX7zBV_D"
      },
      "outputs": [],
      "source": [
        "# Step 3: Predict and draw the confusion matrix\n",
        "# calculate the accuracy\n",
        "from sklearn.metrics import confusion_matrix\n",
        "import itertools\n",
        "\n",
        "# this function draw the confusion matrix, you don't need to touch it.\n",
        "def plot_confusion_matrix(cm, classes,\n",
        "                          normalize=False,\n",
        "                          title='Confusion matrix',\n",
        "                          cmap=plt.cm.Blues):\n",
        "    \"\"\"\n",
        "    This function prints and plots the confusion matrix.\n",
        "    Normalization can be applied by setting `normalize=True`.\n",
        "    \"\"\"\n",
        "    if normalize:\n",
        "        cm = cm.astype('float') / cm.sum(axis=1)[:, np.newaxis]\n",
        "        print(\"Normalized confusion matrix\")\n",
        "    else:\n",
        "        print('Confusion matrix, without normalization')\n",
        "\n",
        "    print(cm)\n",
        "\n",
        "    plt.imshow(cm, interpolation='nearest', cmap=cmap)\n",
        "    plt.title(title)\n",
        "    plt.colorbar()\n",
        "    tick_marks = np.arange(len(classes))\n",
        "    plt.xticks(tick_marks, classes, rotation=45)\n",
        "    plt.yticks(tick_marks, classes)\n",
        "\n",
        "    fmt = '.2f' if normalize else 'd'\n",
        "    thresh = cm.max() / 2.\n",
        "    for i, j in itertools.product(range(cm.shape[0]), range(cm.shape[1])):\n",
        "        plt.text(j, i, format(cm[i, j], fmt),\n",
        "                 horizontalalignment=\"center\",\n",
        "                 color=\"white\" if cm[i, j] > thresh else \"black\")\n",
        "\n",
        "    plt.tight_layout()\n",
        "    plt.ylabel('True label')\n",
        "    plt.xlabel('Predicted label')\n",
        "\n",
        "# this function computes the accuracy, which is the percentage of the correctly classified examples\n",
        "# y_ground_truth: original labels (1D vector)\n",
        "# y_pre: predicted labels (1D vector)\n",
        "# return: accuracy in percent\n",
        "def compute_accuracy(y_ground_truth,y_pred):\n",
        "    ### YOUR CODE GOES  HERE ###\n",
        "\n",
        "# In logistic regression, we choose a threshold.\n",
        "# If the output of our hypothesis is greater than this threshold, the example is classified as 1,\n",
        "# otherwise it is given 0.\n",
        "\n",
        "threshold = ### YOUR CODE GOES HERE ###\n",
        "y_pred = ### YOUR CODE GOES HERE ###\n",
        "print(\"Accuracy on test set: {:.2f}\".format(compute_accuracy(y_test,y_pred)))\n",
        "\n",
        "# calculate the cost for the test set\n",
        "test_cost = compute_cost(x_test_scaled,y_test,theta_msgd)\n",
        "print('Test cost: ',test_cost)\n",
        "\n",
        "# Compute confusion matrix\n",
        "cnf_matrix = confusion_matrix(y_test, y_pred)\n",
        "np.set_printoptions(precision=2)\n",
        "\n",
        "# Plot non-normalized confusion matrix\n",
        "plt.figure()\n",
        "plot_confusion_matrix(cnf_matrix, classes=labels,\n",
        "                      title='Confusion matrix, without normalization')\n",
        "plt.show()"
      ]
    }
  ],
  "metadata": {
    "anaconda-cloud": {},
    "kernelspec": {
      "display_name": "base",
      "language": "python",
      "name": "python3"
    },
    "language_info": {
      "codemirror_mode": {
        "name": "ipython",
        "version": 3
      },
      "file_extension": ".py",
      "mimetype": "text/x-python",
      "name": "python",
      "nbconvert_exporter": "python",
      "pygments_lexer": "ipython3",
      "version": "3.12.9"
    },
    "colab": {
      "provenance": []
    }
  },
  "nbformat": 4,
  "nbformat_minor": 0
}