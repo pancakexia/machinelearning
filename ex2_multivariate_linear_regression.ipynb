{
  "nbformat": 4,
  "nbformat_minor": 0,
  "metadata": {
    "colab": {
      "provenance": [],
      "mount_file_id": "1b7NumdeeGYY7RWdfKmvve0GlbjA0JfnF",
      "authorship_tag": "ABX9TyORalAjSbUqIez4E3kJUVo4",
      "include_colab_link": true
    },
    "kernelspec": {
      "name": "python3",
      "display_name": "Python 3"
    },
    "language_info": {
      "name": "python"
    }
  },
  "cells": [
    {
      "cell_type": "markdown",
      "metadata": {
        "id": "view-in-github",
        "colab_type": "text"
      },
      "source": [
        "<a href=\"https://colab.research.google.com/github/pancakexia/machinelearning/blob/main/ex2_multivariate_linear_regression.ipynb\" target=\"_parent\"><img src=\"https://colab.research.google.com/assets/colab-badge.svg\" alt=\"Open In Colab\"/></a>"
      ]
    },
    {
      "cell_type": "code",
      "source": [
        "### load data\n",
        "# call the load_dat function to load X and Y from the corresponding input files\n",
        "X = load_dat(\"ex2x.dat\")\n",
        "Y =  load_dat(\"ex2y.dat\")\n",
        "# get some statistics of the data\n",
        "num_samples = X.shape[0] # get the first dimension of X (i.e. number of rows)\n",
        "dim = X.shape[1] # get the second dimension of X (i.e. number of columns)\n",
        "print('X (%d x %d)' %(num_samples, dim))\n",
        "print('Y (%d)' %(num_samples))"
      ],
      "metadata": {
        "colab": {
          "base_uri": "https://localhost:8080/"
        },
        "id": "bfTWoTT6rErq",
        "outputId": "a9e62b98-a7cc-4ffb-b7ff-f424b8267f0a"
      },
      "execution_count": 11,
      "outputs": [
        {
          "output_type": "stream",
          "name": "stdout",
          "text": [
            "X (47 x 2)\n",
            "Y (47)\n"
          ]
        }
      ]
    },
    {
      "cell_type": "code",
      "source": [
        "from google.colab import drive\n",
        "drive.mount('/content/drive')"
      ],
      "metadata": {
        "colab": {
          "base_uri": "https://localhost:8080/"
        },
        "id": "PAvkHj9Webyt",
        "outputId": "ae2a39b3-a32d-4c48-d6e6-945fc93d0463"
      },
      "execution_count": 12,
      "outputs": [
        {
          "output_type": "stream",
          "name": "stdout",
          "text": [
            "Drive already mounted at /content/drive; to attempt to forcibly remount, call drive.mount(\"/content/drive\", force_remount=True).\n"
          ]
        }
      ]
    },
    {
      "cell_type": "code",
      "execution_count": 13,
      "metadata": {
        "id": "lYHlvRDfq2qT"
      },
      "outputs": [],
      "source": [
        "import numpy as np # import numpy for matrix operations\n",
        "### this function load data from .dat file\n",
        "def load_dat(filename):\n",
        "    with open(filename, 'r') as fin:\n",
        "        lines = fin.readlines()\n",
        "        dim = len(lines[0].strip().split())\n",
        "        num_samples = len(lines)\n",
        "        data = np.zeros((num_samples, dim))\n",
        "        for i in range(num_samples):\n",
        "            data[i, :] = np.array([float(x) for x in lines[i].strip().split()])\n",
        "        return data"
      ]
    },
    {
      "cell_type": "code",
      "source": [
        "### add intercept term to all samples in X\n",
        "X = np.concatenate((np.ones((num_samples, 1)), X), axis=1)### Your code here ###\n",
        "Y = Y.reshape([-1,1])\n",
        "print('X (%d x %d)' %(num_samples, dim + 1))\n",
        "print('Y (%d x 1)' %(num_samples))"
      ],
      "metadata": {
        "colab": {
          "base_uri": "https://localhost:8080/"
        },
        "id": "H2JWTqbWr2zz",
        "outputId": "c9483fd9-ee57-4cc3-d57f-86b3f7022f22"
      },
      "execution_count": 14,
      "outputs": [
        {
          "output_type": "stream",
          "name": "stdout",
          "text": [
            "X (47 x 3)\n",
            "Y (47 x 1)\n"
          ]
        }
      ]
    },
    {
      "cell_type": "code",
      "source": [
        "### main functions of multivariate linear regression\n",
        "from numpy.linalg import inv\n",
        "def pseudo_inverse(A):\n",
        "    # The pseudo inverse:\n",
        "    # Input: a matrix A\n",
        "    # Output: the pseudo_inverse of A\n",
        "    ### Your code here ###\n",
        "    return inv(np.dot(A.T, A)) @ A.T\n",
        "\n",
        "\n",
        "def sse(prediction,reference):\n",
        "    # Calculate the sum of square error between the prediction and reference vectors\n",
        "    ### Your code here ###\n",
        "    return np.sum((prediction - reference) ** 2)\n",
        "def MAE(prediction, reference):\n",
        "    # Calculate the mean absolute error between the prediction and reference vectors\n",
        "    mae = np.mean(np.abs(prediction - reference))\n",
        "    return mae"
      ],
      "metadata": {
        "id": "uoyJFKfBUZpo"
      },
      "execution_count": 15,
      "outputs": []
    },
    {
      "cell_type": "code",
      "source": [
        "!ls /"
      ],
      "metadata": {
        "colab": {
          "base_uri": "https://localhost:8080/"
        },
        "id": "hu8tPhXum080",
        "outputId": "790167c7-a5a2-4304-a702-bec2c75d2147"
      },
      "execution_count": 29,
      "outputs": [
        {
          "output_type": "stream",
          "name": "stdout",
          "text": [
            "bin\t\t\t    dev     lib32   NGC-DL-CONTAINER-LICENSE  root  tmp\n",
            "boot\t\t\t    etc     lib64   opt\t\t\t      run   tools\n",
            "content\t\t\t    home    libx32  proc\t\t      sbin  usr\n",
            "cuda-keyring_1.1-1_all.deb  kaggle  media   python-apt\t\t      srv   var\n",
            "datalab\t\t\t    lib     mnt     python-apt.tar.xz\t      sys\n"
          ]
        }
      ]
    },
    {
      "cell_type": "code",
      "source": [
        "!git init\n"
      ],
      "metadata": {
        "colab": {
          "base_uri": "https://localhost:8080/"
        },
        "id": "P4hpc7Svm1S7",
        "outputId": "569238e8-21e1-48ec-ac9c-6ce68cac8549"
      },
      "execution_count": 25,
      "outputs": [
        {
          "output_type": "stream",
          "name": "stdout",
          "text": [
            "\u001b[33mhint: Using 'master' as the name for the initial branch. This default branch name\u001b[m\n",
            "\u001b[33mhint: is subject to change. To configure the initial branch name to use in all\u001b[m\n",
            "\u001b[33mhint: of your new repositories, which will suppress this warning, call:\u001b[m\n",
            "\u001b[33mhint: \u001b[m\n",
            "\u001b[33mhint: \tgit config --global init.defaultBranch <name>\u001b[m\n",
            "\u001b[33mhint: \u001b[m\n",
            "\u001b[33mhint: Names commonly chosen instead of 'master' are 'main', 'trunk' and\u001b[m\n",
            "\u001b[33mhint: 'development'. The just-created branch can be renamed via this command:\u001b[m\n",
            "\u001b[33mhint: \u001b[m\n",
            "\u001b[33mhint: \tgit branch -m <name>\u001b[m\n",
            "Initialized empty Git repository in /content/.git/\n"
          ]
        }
      ]
    },
    {
      "cell_type": "code",
      "source": [
        "### estimate beta\n",
        "# call the pseudo_inverse to estimate beta from X and Y\n",
        "beta =  pseudo_inverse(X) @ Y### Your code here\n",
        "# print the estimated (learned) parameters\n",
        "print(beta)"
      ],
      "metadata": {
        "colab": {
          "base_uri": "https://localhost:8080/"
        },
        "id": "mwuvHQj6eGAT",
        "outputId": "af1da8ac-fde5-492a-d44c-4e6aa58801cb"
      },
      "execution_count": 16,
      "outputs": [
        {
          "output_type": "stream",
          "name": "stdout",
          "text": [
            "[[89597.9095428 ]\n",
            " [  139.21067402]\n",
            " [-8738.01911233]]\n"
          ]
        }
      ]
    },
    {
      "cell_type": "code",
      "source": [
        "### evaluate the model\n",
        "import matplotlib.pyplot as plt\n",
        "# calculate the predicted scores\n",
        "prediction = X @ beta ### Your code here\n",
        "# calculate the sum of square error\n",
        "error = sse(prediction, Y)\n",
        "ave_error=error/len(Y)\n",
        "print('Sum of average error: %f' %ave_error)\n",
        "print('Sum of square error: %f' %error)\n",
        "plt.xlabel('X')\n",
        "plt.ylabel('Y')\n",
        "plt.plot(X,Y,'bx',X,prediction,'rx')\n",
        "plt.legend(('Original Data', 'prediction Data'), loc='lower right')\n",
        "plt.show()"
      ],
      "metadata": {
        "colab": {
          "base_uri": "https://localhost:8080/",
          "height": 485
        },
        "id": "0o1xQO_xdPv6",
        "outputId": "3446afdf-d750-4f55-aa05-d1c6b144b165"
      },
      "execution_count": 24,
      "outputs": [
        {
          "output_type": "stream",
          "name": "stdout",
          "text": [
            "Sum of average error: 4086560101.205658\n",
            "Sum of square error: 192068324756.665924\n"
          ]
        },
        {
          "output_type": "display_data",
          "data": {
            "text/plain": [
              "<Figure size 640x480 with 1 Axes>"
            ],
            "image/png": "[encoded data removed]"
          },
          "metadata": {}
        }
      ]
    },
    {
      "cell_type": "code",
      "source": [],
      "metadata": {
        "id": "nVKmicyIihWg"
      },
      "execution_count": null,
      "outputs": []
    },
    {
      "cell_type": "code",
      "source": [
        "### Extra step\n",
        "# generate synthetic scores\n",
        "Ys = 3 * X[:,0] + 2 * X[:,1] + 0.5 * X[:,2] # generate Ys using a linear function of the features of X\n",
        "# perform multivariate linear regression with X and Ys as inputs\n",
        "beta_2 = pseudo_inverse(X) @ Ys ### Your code here\n",
        "print('beta_2: ', beta_2)\n",
        "# calculate the predicted scores\n",
        "prediction_2 =  X @ beta_2### Your code here\n",
        "# calculate the sum of square error\n",
        "error_2 = sse(prediction_2, Ys)\n",
        "print('Sum of square error: %f' %error_2)"
      ],
      "metadata": {
        "colab": {
          "base_uri": "https://localhost:8080/"
        },
        "id": "NZ2Pott-doOW",
        "outputId": "2d86b6b6-461b-49ad-92d3-a50f8c82e812"
      },
      "execution_count": 19,
      "outputs": [
        {
          "output_type": "stream",
          "name": "stdout",
          "text": [
            "beta_2:  [3.  2.  0.5]\n",
            "Sum of square error: 0.000000\n"
          ]
        }
      ]
    }
  ]
}