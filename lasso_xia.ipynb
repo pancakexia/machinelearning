{
  "cells": [
    {
      "cell_type": "code",
      "execution_count": 34,
      "metadata": {
        "id": "Cio-kAtezcO8"
      },
      "outputs": [],
      "source": [
        "import pandas as pd\n",
        "\n",
        "def load_boston():\n",
        "    # Load the dataset\n",
        "    df = pd.read_csv('/content/sample_data/boston_house_prices.csv')\n",
        "\n",
        "    # Separate the features and target\n",
        "    print(df.head())\n",
        "    x = df.drop('MEDV', axis=1).values\n",
        "    y = df['MEDV'].values\n",
        "\n",
        "    return x, y"
      ]
    },
    {
      "cell_type": "code",
      "execution_count": 35,
      "metadata": {
        "id": "Qy5QfqMUzcO9",
        "outputId": "8703c2ed-7c5e-42c3-adc9-5d2d0006fe0f",
        "colab": {
          "base_uri": "https://localhost:8080/"
        }
      },
      "outputs": [
        {
          "output_type": "stream",
          "name": "stdout",
          "text": [
            "      CRIM    ZN  INDUS  CHAS    NOX     RM   AGE     DIS  RAD  TAX  PTRATIO  \\\n",
            "0  0.00632  18.0   2.31     0  0.538  6.575  65.2  4.0900    1  296     15.3   \n",
            "1  0.02731   0.0   7.07     0  0.469  6.421  78.9  4.9671    2  242     17.8   \n",
            "2  0.02729   0.0   7.07     0  0.469  7.185  61.1  4.9671    2  242     17.8   \n",
            "3  0.03237   0.0   2.18     0  0.458  6.998  45.8  6.0622    3  222     18.7   \n",
            "4  0.06905   0.0   2.18     0  0.458  7.147  54.2  6.0622    3  222     18.7   \n",
            "\n",
            "        B  LSTAT  MEDV  \n",
            "0  396.90   4.98  24.0  \n",
            "1  396.90   9.14  21.6  \n",
            "2  392.83   4.03  34.7  \n",
            "3  394.63   2.94  33.4  \n",
            "4  396.90   5.33  36.2  \n",
            "22.532806324110677\n",
            "(404, 13)\n",
            "(404,)\n",
            "(102, 13)\n",
            "(102,)\n",
            "(404, 14)\n",
            "(102, 14)\n"
          ]
        }
      ],
      "source": [
        "import numpy as np\n",
        "# load boston housing price dataset\n",
        "x,y = load_boston()\n",
        "print(y.mean())\n",
        "# split into training and test sets, namely 80 percent of examples goes for the training, 20 percent goes for the test set\n",
        "N_train = int(0.8 * x.shape[0])\n",
        "x_train = x[:N_train,:]\n",
        "y_train = y[:N_train]\n",
        "x_test = x[N_train:,:]\n",
        "y_test = y[N_train:]\n",
        "\n",
        "# scale features by removing mean and dividing by the standard deviation\n",
        "x_bar = np.mean(x_train,axis=0)\n",
        "x_std = np.std(x_train,axis=0)\n",
        "x_train_scaled = (x_train - x_bar)/x_std\n",
        "x_test_scaled = (x_test - x_bar)/x_std\n",
        "\n",
        "print(x_train_scaled.shape)\n",
        "print(y_train.shape)\n",
        "print(x_test_scaled.shape)\n",
        "print(y_test.shape)\n",
        "\n",
        "intercept_train = np.ones((N_train,1))\n",
        "x_train_scaled = np.hstack((intercept_train,x_train_scaled))\n",
        "\n",
        "intercept_test = np.ones((x.shape[0] - N_train,1))\n",
        "x_test_scaled = np.hstack((intercept_test,x_test_scaled))\n",
        "\n",
        "print(x_train_scaled.shape)\n",
        "print(x_test_scaled.shape)"
      ]
    },
    {
      "cell_type": "code",
      "execution_count": 35,
      "metadata": {
        "id": "za5u5JKazcO-"
      },
      "outputs": [],
      "source": []
    },
    {
      "cell_type": "code",
      "execution_count": 36,
      "metadata": {
        "id": "cYlT1XcvzcO-",
        "outputId": "5082b113-febc-419b-b03f-f81c452d2230",
        "colab": {
          "base_uri": "https://localhost:8080/"
        }
      },
      "outputs": [
        {
          "output_type": "stream",
          "name": "stdout",
          "text": [
            "[ 0.         -0.97818797  0.78052038 -0.          0.52228234 -1.10867134\n",
            "  3.58037106 -0.         -2.33238035  1.87566763 -1.12917626 -1.62655993\n",
            "  0.         -3.58521912]\n",
            "24.175742574257427\n"
          ]
        }
      ],
      "source": [
        "# Step 2: Train the lasso regression model\n",
        "from sklearn import linear_model\n",
        "from sklearn.linear_model import Lasso\n",
        "# Implement a Lasso object from sklearn.linear_model to train, set the alpha value to 0.1\n",
        "### YOUR CODE HERE ###\n",
        "lamda=0.1\n",
        "LASSO = Lasso(alpha=lamda)\n",
        "LASSO.fit(x_train_scaled, y_train)\n",
        "#theta = np.random.randn(x_train_scaled.shape[1], 1)\n",
        "#LASSO =1/(2*len(x))* np.sum((y-np.dot(x,theta))**2)+lamda*abs(theta)\n",
        "\n",
        "print(LASSO.coef_)\n",
        "print(LASSO.intercept_)"
      ]
    },
    {
      "cell_type": "code",
      "execution_count": 36,
      "metadata": {
        "id": "1g3IW3lMzcO-"
      },
      "outputs": [],
      "source": []
    },
    {
      "cell_type": "code",
      "execution_count": 39,
      "metadata": {
        "id": "k-kuGQ0lzcO-",
        "outputId": "d7d2d168-0b0c-4efc-a010-47105e696acf",
        "colab": {
          "base_uri": "https://localhost:8080/"
        }
      },
      "outputs": [
        {
          "output_type": "stream",
          "name": "stdout",
          "text": [
            "MAE of LASSO model: 4.373323003374425\n",
            "MSE of LASSO model: 14.21838542982384\n",
            "\n",
            "MAE of linear model: 4.7300172509610166\n",
            "MSE of linear model: 16.39993134010341\n"
          ]
        }
      ],
      "source": [
        "# Step 3: Predict the price, calculate the error and compare with the linear regression\n",
        "# You will see the Lasso model is better than the simple linear model\n",
        "from sklearn import metrics\n",
        "# Implement the prediction\n",
        "### YOUR CODE HERE ###\n",
        "y_pred=LASSO.predict(x_test_scaled)\n",
        "\n",
        "\n",
        "# Invoke appropriate functions in sklearn.metrics to calculate\n",
        "# the Mean Absolute Error (MAE) and Mean Squared Error (MSE)\n",
        "def MSE(prediction,reference):\n",
        "    # Calculate the mean square error between the prediction and reference vectors\n",
        "    mse = 0.5 * np.mean(np.square(prediction - reference))\n",
        "    return mse\n",
        "\n",
        "def MAE(prediction, reference):\n",
        "    # Calculate the mean absolute error between the prediction and reference vectors\n",
        "    mae = np.mean(np.abs(prediction - reference))\n",
        "    return mae\n",
        "### YOUR CODE HERE ###\n",
        "mse = MSE(y_pred, y_test)\n",
        "mae = MAE(y_pred, y_test)\n",
        "\n",
        "print(\"MAE of LASSO model:\",mae)\n",
        "print(\"MSE of LASSO model:\",mse)\n",
        "print()\n",
        "\n",
        "# Implement a LinearRegression object from sklearn.linear_model to train on the same dataset\n",
        "### YOUR CODE HERE ###\n",
        "LINEAR=linear_model.LinearRegression(fit_intercept=True)\n",
        "LINEAR.fit(x_train_scaled, y_train)\n",
        "\n",
        "\n",
        "\n",
        "# Predict the price using the trained linear model and calculate the MAE and MSE\n",
        "### YOUR CODE HERE ###\n",
        "y_pred_lin=LINEAR.predict(X=x_test_scaled)\n",
        "mae_lin=MAE(y_pred_lin, y_test)\n",
        "mse_lin=MSE(y_pred_lin, y_test)\n",
        "\n",
        "print(\"MAE of linear model:\",mae_lin)\n",
        "print(\"MSE of linear model:\",mse_lin)"
      ]
    },
    {
      "cell_type": "code",
      "execution_count": 41,
      "metadata": {
        "id": "gf8WPgAtzcO-",
        "outputId": "9a737439-8de0-423c-993d-ac8bf40c937e",
        "colab": {
          "base_uri": "https://localhost:8080/",
          "height": 211
        }
      },
      "outputs": [
        {
          "output_type": "error",
          "ename": "TypeError",
          "evalue": "'numpy.ndarray' object is not callable",
          "traceback": [
            "\u001b[0;31m---------------------------------------------------------------------------\u001b[0m",
            "\u001b[0;31mTypeError\u001b[0m                                 Traceback (most recent call last)",
            "\u001b[0;32m<ipython-input-41-3b33941cc5d8>\u001b[0m in \u001b[0;36m<cell line: 0>\u001b[0;34m()\u001b[0m\n\u001b[1;32m      8\u001b[0m \u001b[0;32mfor\u001b[0m \u001b[0mi\u001b[0m \u001b[0;32min\u001b[0m \u001b[0mrange\u001b[0m\u001b[0;34m(\u001b[0m\u001b[0;36m10\u001b[0m\u001b[0;34m)\u001b[0m\u001b[0;34m:\u001b[0m\u001b[0;34m\u001b[0m\u001b[0;34m\u001b[0m\u001b[0m\n\u001b[1;32m      9\u001b[0m     \u001b[0;31m### YOUR CODE HERE ###\u001b[0m\u001b[0;34m\u001b[0m\u001b[0;34m\u001b[0m\u001b[0m\n\u001b[0;32m---> 10\u001b[0;31m     \u001b[0mLASSO\u001b[0m \u001b[0;34m=\u001b[0m \u001b[0mLasso\u001b[0m\u001b[0;34m(\u001b[0m\u001b[0malpha\u001b[0m\u001b[0;34m=\u001b[0m\u001b[0malpha_list\u001b[0m\u001b[0;34m(\u001b[0m\u001b[0mi\u001b[0m\u001b[0;34m)\u001b[0m\u001b[0;34m)\u001b[0m\u001b[0;34m\u001b[0m\u001b[0;34m\u001b[0m\u001b[0m\n\u001b[0m\u001b[1;32m     11\u001b[0m     \u001b[0mLASSO\u001b[0m\u001b[0;34m.\u001b[0m\u001b[0mfit\u001b[0m\u001b[0;34m(\u001b[0m\u001b[0mx_train_scaled\u001b[0m\u001b[0;34m,\u001b[0m \u001b[0my_train\u001b[0m\u001b[0;34m)\u001b[0m\u001b[0;34m\u001b[0m\u001b[0;34m\u001b[0m\u001b[0m\n\u001b[1;32m     12\u001b[0m \u001b[0;34m\u001b[0m\u001b[0m\n",
            "\u001b[0;31mTypeError\u001b[0m: 'numpy.ndarray' object is not callable"
          ]
        }
      ],
      "source": [
        "# Step 4: Compare the performance of models with different alpha values\n",
        "# Through observing the prediction error, you can select out the best alpha value\n",
        "import matplotlib.pyplot as plt\n",
        "mae_list=np.zeros(10)\n",
        "mse_list=np.zeros(10)\n",
        "alpha_list=np.arange(0.05,0.51,0.05)\n",
        "# Equip the Lasso model with alpha values above\n",
        "for i in range(10):\n",
        "    ### YOUR CODE HERE ###\n",
        "    LASSO = Lasso(alpha=alpha_list(i))\n",
        "    LASSO.fit(x_train_scaled, y_train)\n",
        "\n",
        "    y_pred=LASSO.predict(x_test_scaled)\n",
        "    mae_list[i]=metrics.mean_absolute_error(y_test, y_pred)\n",
        "    mse_list[i]=metrics.mean_squared_error(y_test, y_pred)\n",
        "\n",
        "plt.figure(0)\n",
        "plt.plot(alpha_list,mae_list,'gd-')\n",
        "plt.title('Mean absolute error of LASSO models with different alpha values')\n",
        "plt.xlabel('alpha')\n",
        "plt.ylabel('MAE')\n",
        "plt.grid()\n",
        "plt.figure(1)\n",
        "plt.plot(alpha_list,mse_list,'bd-')\n",
        "plt.title('Mean squared error of LASSO models with different alpha values')\n",
        "plt.xlabel('alpha')\n",
        "plt.ylabel('MSE')\n",
        "plt.grid()"
      ]
    },
    {
      "cell_type": "code",
      "execution_count": null,
      "metadata": {
        "id": "myGDWcgizcO_"
      },
      "outputs": [],
      "source": []
    }
  ],
  "metadata": {
    "kernelspec": {
      "display_name": "base",
      "language": "python",
      "name": "python3"
    },
    "language_info": {
      "codemirror_mode": {
        "name": "ipython",
        "version": 3
      },
      "file_extension": ".py",
      "mimetype": "text/x-python",
      "name": "python",
      "nbconvert_exporter": "python",
      "pygments_lexer": "ipython3",
      "version": "3.12.9"
    },
    "colab": {
      "provenance": []
    }
  },
  "nbformat": 4,
  "nbformat_minor": 0
}