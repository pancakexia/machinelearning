{
  "cells": [
    {
      "cell_type": "code",
      "execution_count": 44,
      "metadata": {
        "collapsed": true,
        "id": "GuQJ1Anarlxp"
      },
      "outputs": [],
      "source": [
        "from sklearn import datasets\n",
        "import numpy as np\n",
        "import pandas as pd\n",
        "\n",
        "data_url = \"http://lib.stat.cmu.edu/datasets/boston\"\n",
        "raw_df = pd.read_csv(data_url, sep=\"\\s+\", skiprows=22, header=None)\n",
        "data = np.hstack([raw_df.values[::2, :], raw_df.values[1::2, :2]])\n",
        "target = raw_df.values[1::2, 2]"
      ]
    },
    {
      "cell_type": "code",
      "execution_count": 45,
      "metadata": {
        "colab": {
          "base_uri": "https://localhost:8080/"
        },
        "id": "2IBLorh6rlxq",
        "outputId": "0c35aad2-7bd4-4c8e-8d51-6d377421c3ed"
      },
      "outputs": [
        {
          "output_type": "stream",
          "name": "stdout",
          "text": [
            "(20640, 8)\n",
            "(20640,)\n"
          ]
        }
      ],
      "source": [
        "# load dataset\n",
        "X, y = datasets.fetch_california_housing(return_X_y=True)\n",
        "#housing = datasets.fetch_california_housing(as_frame=False)\n",
        "#X, y = housing.data, housing.target\n",
        "print(X.shape)\n",
        "print(y.shape)\n"
      ]
    },
    {
      "cell_type": "code",
      "execution_count": 46,
      "metadata": {
        "colab": {
          "base_uri": "https://localhost:8080/"
        },
        "id": "Q9CSGFkirlxr",
        "outputId": "bbe97c03-ebbc-4b3d-e207-4271cb586c05"
      },
      "outputs": [
        {
          "output_type": "stream",
          "name": "stdout",
          "text": [
            "(20640, 13)\n"
          ]
        }
      ],
      "source": [
        "# create virtual features\n",
        "X_virtual = [np.power(X[:,0], 2).reshape([-1,1]),\n",
        "             np.power(X[:,4], 2).reshape([-1,1]),\n",
        "             np.power(X[:,5], 3).reshape([-1,1]),\n",
        "             np.power(X[:,6], 2).reshape([-1,1]),\n",
        "            ]\n",
        "X_virtual = np.hstack(X_virtual)\n",
        "X = np.hstack((X, X_virtual))\n",
        "interc = np.ones((X.shape[0], 1))\n",
        "X = np.hstack((interc, X))\n",
        "print(X.shape)"
      ]
    },
    {
      "cell_type": "code",
      "execution_count": 47,
      "metadata": {
        "colab": {
          "base_uri": "https://localhost:8080/"
        },
        "id": "R19_BALmrlxr",
        "outputId": "ff404511-8f1a-423a-f181-680122e3d4f1"
      },
      "outputs": [
        {
          "output_type": "stream",
          "name": "stdout",
          "text": [
            "Train/Test: 16512/4128\n"
          ]
        }
      ],
      "source": [
        "# split training and testing dataset\n",
        "train_ratio = 0.8\n",
        "cutoff = int(X.shape[0] * train_ratio)\n",
        "X_tr = X[:cutoff, :]\n",
        "y_tr = y[:cutoff]\n",
        "X_te = X[cutoff:,:]\n",
        "y_te = y[cutoff:]\n",
        "print('Train/Test: %d/%d' %(X_tr.shape[0], X_te.shape[0]))"
      ]
    },
    {
      "cell_type": "code",
      "execution_count": 48,
      "metadata": {
        "collapsed": true,
        "id": "ozY-N1_Brlxr"
      },
      "outputs": [],
      "source": [
        "# linear regression using the normal equation\n",
        "from numpy.linalg import inv\n",
        "#from numpy.linalg import pinv\n",
        "def pseudo_inverse(A):\n",
        "    # Calculate the pseudo_inverse of A\n",
        "    pinv = np.matmul(inv(np.matmul(A.T, A)), A.T)\n",
        "\n",
        "    return pinv"
      ]
    },
    {
      "cell_type": "code",
      "execution_count": 49,
      "metadata": {
        "collapsed": true,
        "id": "SkVxmuO6rlxr"
      },
      "outputs": [],
      "source": [
        "# evaluation functions\n",
        "def MSE(prediction,reference):\n",
        "    # Calculate the mean square error between the prediction and reference vectors\n",
        "    mse = 0.5 * np.mean(np.square(prediction - reference))\n",
        "    return mse\n",
        "\n",
        "def MAE(prediction, reference):\n",
        "    # Calculate the mean absolute error between the prediction and reference vectors\n",
        "    mae = np.mean(np.abs(prediction - reference))\n",
        "    return mae"
      ]
    },
    {
      "cell_type": "code",
      "execution_count": 50,
      "metadata": {
        "colab": {
          "base_uri": "https://localhost:8080/"
        },
        "id": "fQRMWpDTrlxr",
        "outputId": "3cf4148b-258c-4012-98fc-ef5118f47c04"
      },
      "outputs": [
        {
          "output_type": "stream",
          "name": "stdout",
          "text": [
            "[-2.46041530e+01  5.70776190e-01  1.07857470e-02 -1.35704230e-01\n",
            "  7.74429534e-01  5.68996772e-06 -5.19585763e-02 -1.00669354e+00\n",
            " -4.15626171e-01 -1.05797041e-02  1.91324111e-10  1.42019113e-07\n",
            "  8.28267916e-03]\n"
          ]
        }
      ],
      "source": [
        "# fit the polynomial on the training set\n",
        "beta = np.matmul(pseudo_inverse(X_tr), y_tr)\n",
        "#print(np.linalg.inv(np.matmul(X_tr.T,X_tr)))\n",
        "print(beta)"
      ]
    },
    {
      "cell_type": "code",
      "execution_count": 51,
      "metadata": {
        "id": "bJxs4rtFrlxs",
        "outputId": "261897e4-cbcc-4262-ca19-d8240c0f0b17",
        "colab": {
          "base_uri": "https://localhost:8080/"
        }
      },
      "outputs": [
        {
          "output_type": "stream",
          "name": "stdout",
          "text": [
            "5.688900430492606\n",
            "0.5560411511212248\n"
          ]
        }
      ],
      "source": [
        "# make prediction on the testing set\n",
        "pred = np.matmul(X_te, beta)\n",
        "mse = MSE(pred, y_te)\n",
        "mae = MAE(pred, y_te)\n",
        "print(mse)\n",
        "print(mae)"
      ]
    },
    {
      "cell_type": "code",
      "execution_count": 60,
      "metadata": {
        "collapsed": true,
        "id": "HrbfbVvGrlxs"
      },
      "outputs": [],
      "source": [
        "# regularized linear regression\n",
        "def regularized_pseudo_inverse(A, theta):\n",
        "    # Calculate the regularized pseudo_inverse of A\n",
        "    ### Your code here ###\n",
        "\n",
        "    I=np.identity(A.shape[1])\n",
        "    pinv=inv(np.dot(A.T, A)+theta*I) @ A.T\n",
        "    return pinv"
      ]
    },
    {
      "cell_type": "code",
      "execution_count": 62,
      "metadata": {
        "collapsed": true,
        "id": "vz-qxkV7rlxs",
        "outputId": "ef507968-d285-4d28-d228-f01c491aeb3e",
        "colab": {
          "base_uri": "https://localhost:8080/"
        }
      },
      "outputs": [
        {
          "output_type": "stream",
          "name": "stdout",
          "text": [
            "[-4.20283682e+00  5.82225902e-01  1.18568075e-02 -1.42249028e-01\n",
            "  7.96150145e-01  1.14990832e-05 -5.15193019e-02 -2.02372212e+00\n",
            " -3.94529240e-01 -1.10258314e-02  1.76754204e-11  1.39359512e-07\n",
            "  2.26363771e-02]\n"
          ]
        }
      ],
      "source": [
        "# fit the polynomial, regularized by theta\n",
        "theta = 0.5\n",
        "#beta = np.matmul(pseudo_inverse(X_tr), y_tr)\n",
        "beta_regularized = np.matmul(regularized_pseudo_inverse(X_tr,theta),y_tr)### Your code here ##\n",
        "print(beta_regularized)"
      ]
    },
    {
      "cell_type": "code",
      "execution_count": 63,
      "metadata": {
        "id": "IIN3oU-arlxs",
        "outputId": "9393beac-0bf3-4508-d4a6-2d964152a1ff",
        "colab": {
          "base_uri": "https://localhost:8080/"
        }
      },
      "outputs": [
        {
          "output_type": "stream",
          "name": "stdout",
          "text": [
            "5.463482120839311\n",
            "0.5498164056823454\n"
          ]
        }
      ],
      "source": [
        "# make prediction on the testing set\n",
        "pred_2 = np.matmul(X_te, beta_regularized)### Your code here ###\n",
        "mse = MSE(pred_2, y_te)\n",
        "mae = MAE(pred_2, y_te)\n",
        "print(mse)\n",
        "print(mae)\n",
        "#how to compare the pred_2 and pred??"
      ]
    },
    {
      "cell_type": "code",
      "execution_count": null,
      "metadata": {
        "collapsed": true,
        "id": "v54z44fzrlxs"
      },
      "outputs": [],
      "source": []
    }
  ],
  "metadata": {
    "anaconda-cloud": {},
    "kernelspec": {
      "display_name": "Python 3",
      "language": "python",
      "name": "python3"
    },
    "language_info": {
      "codemirror_mode": {
        "name": "ipython",
        "version": 3
      },
      "file_extension": ".py",
      "mimetype": "text/x-python",
      "name": "python",
      "nbconvert_exporter": "python",
      "pygments_lexer": "ipython3",
      "version": "3.7.3"
    },
    "colab": {
      "provenance": []
    }
  },
  "nbformat": 4,
  "nbformat_minor": 0
}